{
  "nbformat": 4,
  "nbformat_minor": 0,
  "metadata": {
    "colab": {
      "name": "Math 490 Final Project.ipynb",
      "provenance": [],
      "collapsed_sections": []
    },
    "kernelspec": {
      "name": "python3",
      "display_name": "Python 3"
    },
    "language_info": {
      "name": "python"
    }
  },
  "cells": [
    {
      "cell_type": "markdown",
      "metadata": {
        "id": "FyUaaLw_pLNf"
      },
      "source": [
        "## Introduction"
      ]
    },
    {
      "cell_type": "markdown",
      "metadata": {
        "id": "tzRh5U9hnxny"
      },
      "source": [
        "In this project, we study efficient exploration of univariate Gaussian mixture posteriors. The multimodality of mixture posteriors make them hard to sample with standard MCMC methods, as the chain often gets stuck at a particular mode. Essentially, we'll present a new strategy based on free-energy methods in statistical physics that finds a related distribution which is significantly less multimodal and easier to sample from. Then, we sample from this new distribution and use standard importance sampling to retrieve the original distribution. In this project, we will briefly introduce the idea behind this method, implement it, and compare its performance with the standard Metropolis Hastings Algorithm."
      ]
    },
    {
      "cell_type": "markdown",
      "metadata": {
        "id": "dTKCaseCqQ07"
      },
      "source": [
        "## Preliminaries"
      ]
    },
    {
      "cell_type": "markdown",
      "metadata": {
        "id": "rEpuqjYUqXQl"
      },
      "source": [
        "In this project, we focus on the univariate Gaussian mixture model with the following likelihood:\n",
        "$$p(y, \\theta) = \\prod_{i = 1}^np(y_i \\mid \\theta), \\:\\:p(y_i \\mid \\theta) = \\sum_{k = 1}^Kq_k\\varphi(y_i; \\mu_k, \\lambda_k^{-1}),$$\n",
        "where the vector $\\theta$ contains all the unknown parameters, $i.e.$ the mixture weights $q_1, \\ldots, q_{K - 1}$, the means $\\mu_1, \\ldots, \\mu_K$ and the precisions $\\lambda_1, \\ldots, \\lambda_K$; and $\\varphi(\\cdot; \\mu, \\lambda^{-1})$ denotes the Gaussian density with mean $\\mu$ and variance $\\lambda^{-1}$. Note that since any local mode of the posterior density admits $K! - 1$ symmetric replicates, there are at least $K!$ modes, while a typical MCMC sampler could recover only one of them.\n",
        "\n",
        "The parameters are associated with the following prior, which is symmetric with respect to the components $k = 1, \\ldots, K$:\n",
        "\\begin{align*}\\mu_k &\\sim \\mathcal{N}(m, \\kappa^{-1}),\\\\\n",
        "\\lambda_k &\\sim \\text{Gamma}(\\alpha, \\beta),\\\\\n",
        "\\beta &\\sim \\text{Gamma}(g, h),\\\\\n",
        "(q_1, \\ldots, q_{K - 1}) &\\sim \\text{Dirichlet}_K(1, \\ldots, 1).\n",
        "\\end{align*}"
      ]
    },
    {
      "cell_type": "markdown",
      "metadata": {
        "id": "7Xo_MMr3waj1"
      },
      "source": [
        "In our example, we take $m = M$, $\\kappa = \\frac{4}{R^2}$, $\\alpha = 2$, $g = 0.2$, $h = \\frac{100g}{\\alpha R^2}$, where $R$ and $M$ are respectively the range and the mean of the observed data. Then, the posterior density is:\n",
        "\\begin{align*}p(\\theta \\mid y) &= \\frac{1}{Z_k}p(\\theta)p(y \\mid \\theta)\\\\\n",
        "&= \\frac{\\kappa^{K / 2}g^h\\beta^{K\\alpha + g - 1}}{Z_K\\Gamma(\\alpha)^K\\Gamma(g)(2\\pi)^{\\frac{n + K}{2}}}\\left(\\prod_{k = 1}^K\\lambda_k\\right)^{\\alpha - 1}\\exp\\left\\{-\\frac{\\kappa}{2}\\sum_{k = 1}^K(\\mu_k-M)^2 - \\beta\\left(h + \\sum_{k = 1}^K\\lambda_k\\right)\\right\\}\\\\\n",
        "& \\quad\\times\\prod_{i = 1}^n\\left[\\sum_{k = 1}^Kq_k\\lambda_k^{1/2}\\exp\\left\\{-\\frac{\\lambda_k}{2}(y_i - \\mu_k)^2\\right\\}\\right].\n",
        "\\end{align*}"
      ]
    },
    {
      "cell_type": "markdown",
      "metadata": {
        "id": "kvvrrhIS0Nec"
      },
      "source": [
        "In this expression, $\\theta$ is the vector\n",
        "$$\\theta = (q_1, \\ldots, q_{K - 1}, \\mu_1, \\ldots, \\mu_K, \\lambda_1, \\ldots, \\lambda_K, \\beta) \\in \\Omega = \\mathcal{S}_K \\times \\mathbb{R}^K \\times (\\mathbb{R}^+)^{K + 1},$$\n",
        "the set \n",
        "$$\\mathcal{S}_K = \\left\\{(q_1, \\ldots, q_{K - 1}) \\in (\\mathbb{R}^+)^{K - 1}, \\sum_{i = 0}^{k - 1}q_i \\leq 1\\right\\}$$\n",
        "is the probability simplex, and\n",
        "$$Z_K = \\int_\\Omega p(\\theta)p(y \\mid \\theta)\\text{d}\\theta$$\n",
        "is the normalizing constant. We will focus on the sampling this posterior distribution."
      ]
    },
    {
      "cell_type": "markdown",
      "metadata": {
        "id": "E5qXp1JO2DUU"
      },
      "source": [
        "## Implementation of Metropolis Hastings Algorithm"
      ]
    },
    {
      "cell_type": "markdown",
      "metadata": {
        "id": "g83fx_ds2aOg"
      },
      "source": [
        "In this section, we implement the standard Metropolis Hastings algorithm and see how it performs on exploring this multimodal posterior."
      ]
    },
    {
      "cell_type": "markdown",
      "metadata": {
        "id": "VZYiYqfQQPTz"
      },
      "source": [
        "We consider the Fishery data of Titterington et al., which consists of 256 snappers, and a Gaussian mixture model with $K = 3$ components; see below for a histogram."
      ]
    },
    {
      "cell_type": "code",
      "metadata": {
        "id": "qYt9BAdoHycI",
        "colab": {
          "base_uri": "https://localhost:8080/",
          "height": 298
        },
        "outputId": "3a96f3e1-b14a-411f-d91d-ee8899da4cc3"
      },
      "source": [
        "import numpy as np\n",
        "import pandas as pd\n",
        "import statistics as st\n",
        "\n",
        "fishery =  [2.875, 2.875, 2.875, 2.875, 2.875, 2.875, 3.125, 3.125, 3.125, 3.125, 3.125,\n",
        "3.125, 3.125, 3.375, 3.375, 3.375, 3.375, 3.375, 3.375, 3.375, 3.375, 3.375,\n",
        "3.625, 3.625, 3.625, 3.875, 3.875, 3.875, 4.125, 4.125, 4.125, 4.125, 4.375,\n",
        "4.375, 4.375, 4.375, 4.375, 4.375, 4.625, 4.625, 4.625, 4.625, 4.625, 4.625,\n",
        "4.625, 4.625, 4.625, 4.625, 4.625, 4.875, 4.875, 4.875, 4.875, 4.875, 4.875, \n",
        "4.875, 4.875, 4.875, 4.875, 4.875, 4.875, 4.875, 4.875, 4.875, 4.875, 4.875,\n",
        "4.875, 4.875, 4.875, 4.875, 4.875, 4.875, 4.875, 4.875, 4.875, 5.125, 5.125, \n",
        "5.125, 5.125, 5.125, 5.125, 5.125, 5.125, 5.125, 5.125, 5.125, 5.125, 5.125,\n",
        "5.125, 5.125, 5.125, 5.125, 5.125, 5.125, 5.125, 5.125, 5.125, 5.125, 5.125,\n",
        "5.375, 5.375, 5.375, 5.375, 5.375, 5.375, 5.375, 5.375, 5.375, 5.375, 5.375,\n",
        "5.375, 5.375, 5.375, 5.375, 5.375, 5.375, 5.625, 5.625, 5.625, 5.625, 5.625,\n",
        "5.625, 5.625, 5.625, 5.625, 5.625, 5.625, 5.625, 5.625, 5.625, 5.625, 5.625,\n",
        "5.625, 5.875, 5.875, 5.875, 5.875, 5.875, 5.875, 5.875, 5.875, 5.875, 5.875,\n",
        "5.875, 5.875, 5.875, 5.875, 6.125, 6.125, 6.125, 6.125, 6.125, 6.125, 6.125,\n",
        "6.125, 6.125, 6.125, 6.125, 6.375, 6.375, 6.375, 6.375, 6.375, 6.375, 6.375,\n",
        "6.375, 6.625, 6.625, 6.625, 6.625, 6.875, 6.875, 6.875, 6.875, 6.875, 6.875,\n",
        "6.875, 7.125, 7.125, 7.125, 7.125, 7.125, 7.125, 7.125, 7.125, 7.125, 7.125,\n",
        "7.125, 7.375, 7.375, 7.375, 7.375, 7.375, 7.375, 7.375, 7.375, 7.375, 7.375,\n",
        "7.375, 7.625, 7.625, 7.625, 7.625, 7.625, 7.625, 7.625, 7.625, 7.625, 7.625,\n",
        "7.625, 7.875, 7.875, 7.875, 7.875, 7.875, 7.875, 7.875, 7.875, 7.875, 8.125,\n",
        "8.125, 8.125, 8.125, 8.125, 8.125, 8.375, 8.375, 8.375, 8.375, 8.625, 8.625,\n",
        "8.625, 8.875, 8.875, 8.875, 9.125, 9.125, 9.375, 9.375, 9.625, 9.625, 9.625,\n",
        "9.625, 9.875, 9.875, 9.875, 10.125, 10.125, 10.375, 10.375, 10.625, 10.875, 11.375,\n",
        "11.875, 12.375, 12.625]\n",
        "\n",
        "fish = pd.DataFrame(data = fishery, columns = [\"fishery\"])\n",
        "fish.hist(bins = 20)\n",
        "print(st.mean(fishery))"
      ],
      "execution_count": 10,
      "outputs": [
        {
          "output_type": "stream",
          "text": [
            "6.103515625\n"
          ],
          "name": "stdout"
        },
        {
          "output_type": "display_data",
          "data": {
            "image/png": "[encoded data removed]",
            "text/plain": [
              "<Figure size 432x288 with 1 Axes>"
            ]
          },
          "metadata": {
            "tags": [],
            "needs_background": "light"
          }
        }
      ]
    },
    {
      "cell_type": "markdown",
      "metadata": {
        "id": "YraG9pPTTLgi"
      },
      "source": [
        "Then, we implement the Metropolis Hasting algorithm with normal random walk and plot the trajectories of $(\\mu_1, \\mu_2, \\mu_3)$ and $\\beta$ for $10^8$ iterations. In this example, $M = m = 6.1035$, $R = 9.75$, $\\kappa = 0.042$, $\\alpha = 2$, $g = 0.2$, $h = 0.1052$."
      ]
    },
    {
      "cell_type": "code",
      "metadata": {
        "id": "Mbi7T-PZTI9d",
        "colab": {
          "base_uri": "https://localhost:8080/",
          "height": 1000
        },
        "outputId": "e9777f4b-f183-4efd-a9c1-28bea13eac6c"
      },
      "source": [
        "m = 6.1035; R = 9.75; kappa = 0.042\n",
        "alpha = 2; g = 0.2; h = 0.1052\n",
        "y = fishery\n",
        "\n",
        "#return log density of gamma(alpha, beta)\n",
        "def lgamma_lbda(lbda, beta):\n",
        "  return (alpha - 1) * np.log(lbda) - beta * lbda\n",
        "\n",
        "#return log density of gamma(g, h)\n",
        "def lgamma_beta(beta):\n",
        "  return (g - 1) * np.log(beta) - h * beta\n",
        "\n",
        "#compute log likelihood\n",
        "def log_lik(mu, lbda, beta, q):\n",
        "  ans = 0\n",
        "  for i in range(len(y)):\n",
        "    cur = 0\n",
        "    for j in range(len(mu)):\n",
        "      cur += q[j] * np.exp(-(y[i] - mu[j]) ** 2 / (2 / lbda[j])) * lbda[j]\n",
        "    ans += np.log(cur)\n",
        "  return ans\n",
        "\n",
        "#compute log acceptance ratio for mu\n",
        "#ind denotes which mu is to be updated (e.g. ind = 0 means mu1 is to be updated)\n",
        "def compute_acc_ratio_mu(mu_new, mu_old, lbda, beta, q, ind):\n",
        "  log_rho = (mu_old[ind] - m) ** 2 / (2 / kappa) - (mu_new[ind] - m) ** 2 / (2 / kappa)\n",
        "  log_rho -= log_lik(mu_old, lbda, beta, q)\n",
        "  log_rho += log_lik(mu_new, lbda, beta, q)\n",
        "  return log_rho\n",
        "\n",
        "#compute log acceptance ratio for lambda\n",
        "#ind denotes which lambda is to be updated (e.g. ind = 0 means lambda1 is to be updated)\n",
        "def compute_acc_ratio_lbda(mu, lbda_new, lbda_old, beta, q, ind):\n",
        "  #since lambda is required to be positive, so if a negative value is proposed, it must be rejected\n",
        "  if lbda_new[ind] <= 0:\n",
        "    return -1e60\n",
        "  log_rho = lgamma_lbda(lbda_new[ind], beta) - lgamma_lbda(lbda_old[ind], beta)\n",
        "  log_rho -= log_lik(mu, lbda_old, beta, q)\n",
        "  log_rho += log_lik(mu, lbda_new, beta, q)\n",
        "  return log_rho\n",
        "\n",
        "#compute log acceptance ratio for beta\n",
        "def compute_acc_ratio_beta(mu, lbda, beta_new, beta_old, q):\n",
        "  #beta is also required to be positive\n",
        "  if beta_new <= 0:\n",
        "    return -1e60\n",
        "  log_rho = lgamma_beta(beta_new) - lgamma_beta(beta_old)\n",
        "  log_rho -= log_lik(mu, lbda, beta_old, q)\n",
        "  log_rho += log_lik(mu, lbda, beta_new, q)\n",
        "  return log_rho\n",
        "\n",
        "#compute log acceptance ratio for q\n",
        "def compute_acc_ratio_q(mu, lbda, beta, q_new, q_old):\n",
        "  #since q is required to stay in range [0, 1], so if any entry gets out of range, we must reject it\n",
        "  for i in range(len(q_new)):\n",
        "    if q_new[i] < 0 or q_new[i] > 1:\n",
        "       return -1e60\n",
        "  log_rho = 0\n",
        "  log_rho -= log_lik(mu, lbda, beta, q_old)\n",
        "  log_rho += log_lik(mu, lbda, beta, q_new)\n",
        "  return log_rho\n",
        "\n",
        "def metropolisHastings(nsample, burn_in, mu_old, lbda_old, beta_old, q_old):\n",
        "  mu = []\n",
        "  lbda = []\n",
        "  beta = []\n",
        "  q = []\n",
        "  acc_mu = []\n",
        "  acc_lbda = []\n",
        "  acc_beta = []\n",
        "  acc_q = []\n",
        "  for i in range(nsample):\n",
        "    #update mu\n",
        "    for j in range(len(mu_old)):\n",
        "      muj_old = mu_old[j]\n",
        "      muj_new = np.random.normal(muj_old, 0.2)\n",
        "      mu_new = mu_old[:]\n",
        "      mu_new[j] = muj_new\n",
        "      u = np.random.uniform(0, 1, 1)\n",
        "      log_rho = compute_acc_ratio_mu(mu_new, mu_old, lbda_old, beta_old, q_old, j)\n",
        "      log_rho = min(log_rho, 0)\n",
        "      if np.log(u) < log_rho:\n",
        "        mu_old = mu_new\n",
        "        if i > burn_in:\n",
        "          acc_mu.append(1)\n",
        "      if i > burn_in:\n",
        "        mu.append(mu_old)\n",
        "    #update lambda\n",
        "    for j in range(len(lbda_old)):\n",
        "      lbdaj_old = lbda_old[j]\n",
        "      lbdaj_new = np.random.normal(lbdaj_old, 0.5)\n",
        "      lbda_new = lbda_old[:]\n",
        "      lbda_new[j] = lbdaj_new\n",
        "      u = np.random.uniform(0, 1, 1)\n",
        "      log_rho = compute_acc_ratio_lbda(mu_old, lbda_new, lbda_old, beta_old, q_old, j)\n",
        "      log_rho = min(log_rho, 0)\n",
        "      if np.log(u) < log_rho:\n",
        "        lbda_old = lbda_new\n",
        "        if i > burn_in:\n",
        "          acc_lbda.append(1)\n",
        "      if i > burn_in:\n",
        "        lbda.append(lbda_old)\n",
        "    #update beta\n",
        "    beta_new = np.random.normal(beta_old, 0.2)\n",
        "    u = np.random.uniform(0, 1, 1)\n",
        "    log_rho = compute_acc_ratio_beta(mu_old, lbda_old, beta_new, beta_old, q_old)\n",
        "    log_rho = min(log_rho, 0)\n",
        "    if np.log(u) < log_rho:\n",
        "      beta_old = beta_new\n",
        "      if i > burn_in:\n",
        "        acc_beta.append(1)\n",
        "    if i > burn_in:\n",
        "      beta.append(beta_old)\n",
        "    #update q\n",
        "    q_new = []\n",
        "    for j in range(len(q_old) - 1):\n",
        "      q_new.append(np.random.normal(q_old[j], 0.02))\n",
        "    q_new.append(1)\n",
        "    for j in range(len(q_old) - 1):\n",
        "      q_new[len(q_old) - 1] -= q_new[j]\n",
        "    log_rho = compute_acc_ratio_q(mu_old, lbda_old, beta_old, q_new, q_old)\n",
        "    log_rho = min(log_rho, 0)\n",
        "    u = np.random.uniform(0, 1, 1)\n",
        "    if np.log(u) < log_rho:\n",
        "      q_old = q_new\n",
        "      if i > burn_in:\n",
        "        acc_q.append(1)\n",
        "    if i > burn_in:\n",
        "      q.append(q_old)\n",
        "  return mu, lbda, beta, q, acc_mu, acc_lbda, acc_beta, acc_q\n",
        "\n",
        "mu_old = [2, 2, 2]\n",
        "lbda_old = [0.5, 0.5, 0.5]\n",
        "beta_old = 1\n",
        "q_old = [0.3, 0.3, 0.4]\n",
        "mu, lbda, beta, q, acc_mu, acc_lbda, acc_beta, acc_q = metropolisHastings(10000, 2000, mu_old, lbda_old, beta_old, q_old)\n",
        "#acceptance ration of mu\n",
        "print(sum(acc_mu) / 24000)\n",
        "#acceptance ratio of lambda\n",
        "print(sum(acc_lbda) / 24000)\n",
        "#acceptance ratio of beta\n",
        "print(sum(acc_beta) / 8000)\n",
        "#acceptance ratio of q\n",
        "print(sum(acc_q) / 8000)\n",
        "\n",
        "#plot histogram and traceplot for mu1, mu2, mu3, mu4\n",
        "data1 = pd.DataFrame(data = np.array(mu)[:, 0], columns = [\"mu1\"])\n",
        "data1.hist(bins = 20)\n",
        "data1.plot()\n",
        "\n",
        "data2 = pd.DataFrame(data = np.array(mu)[:, 1], columns = [\"mu2\"])\n",
        "data2.hist(bins = 20)\n",
        "data2.plot()\n",
        "\n",
        "data3 = pd.DataFrame(data = np.array(mu)[:, 2], columns = [\"mu3\"])\n",
        "data3.hist(bins = 20)\n",
        "data3.plot()\n",
        "\n",
        "data4 = pd.DataFrame(data = beta, columns = [\"beta\"])\n",
        "data4.hist(bins = 20)\n",
        "data4.plot()\n"
      ],
      "execution_count": 16,
      "outputs": [
        {
          "output_type": "stream",
          "text": [
            "0.36333333333333334\n",
            "0.6524583333333334\n",
            "0.546375\n",
            "0.616875\n"
          ],
          "name": "stdout"
        },
        {
          "output_type": "execute_result",
          "data": {
            "text/plain": [
              "<matplotlib.axes._subplots.AxesSubplot at 0x7f58d207c310>"
            ]
          },
          "metadata": {
            "tags": []
          },
          "execution_count": 16
        },
        {
          "output_type": "display_data",
          "data": {
            "image/png": "[encoded data removed]",
            "text/plain": [
              "<Figure size 432x288 with 1 Axes>"
            ]
          },
          "metadata": {
            "tags": [],
            "needs_background": "light"
          }
        },
        {
          "output_type": "display_data",
          "data": {
            "image/png": "[encoded data removed]",
            "text/plain": [
              "<Figure size 432x288 with 1 Axes>"
            ]
          },
          "metadata": {
            "tags": [],
            "needs_background": "light"
          }
        },
        {
          "output_type": "display_data",
          "data": {
            "image/png": "[encoded data removed]",
            "text/plain": [
              "<Figure size 432x288 with 1 Axes>"
            ]
          },
          "metadata": {
            "tags": [],
            "needs_background": "light"
          }
        },
        {
          "output_type": "display_data",
          "data": {
            "image/png": "[encoded data removed]",
            "text/plain": [
              "<Figure size 432x288 with 1 Axes>"
            ]
          },
          "metadata": {
            "tags": [],
            "needs_background": "light"
          }
        },
        {
          "output_type": "display_data",
          "data": {
            "image/png": "[encoded data removed]",
            "text/plain": [
              "<Figure size 432x288 with 1 Axes>"
            ]
          },
          "metadata": {
            "tags": [],
            "needs_background": "light"
          }
        },
        {
          "output_type": "display_data",
          "data": {
            "image/png": "[encoded data removed]",
            "text/plain": [
              "<Figure size 432x288 with 1 Axes>"
            ]
          },
          "metadata": {
            "tags": [],
            "needs_background": "light"
          }
        },
        {
          "output_type": "display_data",
          "data": {
            "image/png": "[encoded data removed]",
            "text/plain": [
              "<Figure size 432x288 with 1 Axes>"
            ]
          },
          "metadata": {
            "tags": [],
            "needs_background": "light"
          }
        },
        {
          "output_type": "display_data",
          "data": {
            "image/png": "[encoded data removed]",
            "text/plain": [
              "<Figure size 432x288 with 1 Axes>"
            ]
          },
          "metadata": {
            "tags": [],
            "needs_background": "light"
          }
        }
      ]
    },
    {
      "cell_type": "markdown",
      "metadata": {
        "id": "o-01yicREKQP"
      },
      "source": [
        "From the traceplot, we can see that there is a transition between different modes in the process. Overall, the transition is not active and the performance is not ideal."
      ]
    },
    {
      "cell_type": "markdown",
      "metadata": {
        "id": "x10seimf1tdB"
      },
      "source": [
        "## Mathematical Context for Free-energy Based Method"
      ]
    },
    {
      "cell_type": "markdown",
      "metadata": {
        "id": "5PzQEUixsbar"
      },
      "source": [
        "In this section, we introduce the basic idea and the mathematical context for free-energy based method."
      ]
    },
    {
      "cell_type": "markdown",
      "metadata": {
        "id": "sLExlrm92ykS"
      },
      "source": [
        "### General Principle of the Method"
      ]
    },
    {
      "cell_type": "markdown",
      "metadata": {
        "id": "puZ0WdzLK-4d"
      },
      "source": [
        "Suppose we want to sample from $\\pi(\\theta)$ with $\\theta \\in \\Omega \\subset \\mathbb{R}^d$ given by:\n",
        "$$\\pi(\\theta) = \\frac{1}{Z}\\exp\\{-V(\\theta)\\}, \\:\\: Z = \\int_\\Omega \\exp\\{-V(\\theta)\\} \\text{d}\\theta.$$\n",
        "\n",
        "The principle of free-energy based method is to change the original density $\\pi$ to the biased density:\n",
        "$$\\pi_A(\\theta) \\propto \\pi(\\theta)\\exp\\{(A\\circ\\xi)(\\theta)\\},$$\n",
        "where $\\xi$, which is called the ***reaction coordinate***, is some real-valued function:\n",
        "$$\\xi: \\Omega \\to [z_{\\min}, z_{\\max}]$$\n",
        "where we suppose $[z_{\\min}, z_{\\max}] \\subset \\mathbb{R}$ is a bounded interval. Note that $[z_{\\min}, z_{\\max}]$ is determined by the choice of $\\xi$ and might as well be unbounded, which we will discuss later. By construction, when $\\theta$ is distributed according to $\\pi_A$, $\\xi(\\theta)$ is uniformly distributed over the interval $[z_{\\min}, z_{\\max}]$. By sampling $\\pi_A$, we aim to remove the metastability (the tendancy to get stuck in one mode) in the direction of $\\xi$. \n",
        "\n",
        "$A$ is called the ***free energy***, and is defined as follows:\n",
        "$$\\exp\\{-A(z)\\} = \\int_{\\Sigma(z)}\\exp\\{-V(\\theta)\\}\\mathbb{1}_{\\xi(\\theta) - z}\\text{d}\\theta$$\n",
        "where $\\Sigma(z) = \\{\\theta \\in \\Omega \\mid \\xi(\\theta) = z\\}$ and $\\mathbb{1}_{\\xi(\\theta) - z}$ is an indicator function, which equals $1$ if $\\xi(\\theta) = z$ and equals $0$ otherwise. As a concrete example, when $\\xi(\\theta) = q_1$, where $q_1$ is the first mixture weight, we have:\n",
        "$$A(q_1) = -\\log\\left(\\int_{\\mathcal{S}_{K - 1}(q_1)\\times \\mathbb{R}^K\\times(\\mathbb{R}^+)^{K + 1}}\\exp\\{-V(\\theta)\\}\\text{d}q_1\\cdots\\text{d}q_{K - 1}\\text{d}\\mu_1\\cdots \\text{d}\\mu_K\\text{d}\\lambda_1\\cdots \\text{d}\\lambda_K\\text{d}\\beta\\right)$$\n",
        "\n",
        "where\n",
        "$$\\mathcal{S}_{K - 1}(q_1) = \\left\\{(q_2, \\ldots, q_{K - 1}) \\in (\\mathbb{R}^+)^{K - 2}, \\sum_{i = 2}^{K - 1}q_i = 1 - q_1\\right\\}.$$"
      ]
    },
    {
      "cell_type": "markdown",
      "metadata": {
        "id": "BWw7RgviRskF"
      },
      "source": [
        "Note that usually we don't have a closed form for $A$, so the estimation of $A$ is a major part of the sampling and will be discussed in detail in the next section."
      ]
    },
    {
      "cell_type": "markdown",
      "metadata": {
        "id": "UL7RemS5SKlh"
      },
      "source": [
        "After obtaining an approximation $\\hat{A}$ for the free energy, we define the biased density $\\tilde{\\pi} = \\pi_{\\hat{A}}$, which should be significantly less multimodal. Then, we can perform standard MCMC methods, such as Metropolis Hastings algorithm, to sample from $\\tilde{\\pi}$. Ultimately, we perform an importance sampling step to recover $\\pi$ from $\\tilde{\\pi}$. In particular, from the chain $(\\theta_t)_{t \\geq 1}$ targeted at $\\tilde{\\pi}$, the expectation with respect to $\\pi$ of a function $h$ can be estimated as:\n",
        "$$\\mathbb{E}_\\pi(h) = \\frac{\\mathbb{E}_{\\tilde{\\pi}}(hw)}{\\mathbb{E}_{\\tilde{\\pi}}(w)} \\approx \\frac{\\sum_{t = 1}^{t_{\\max}}h(\\theta_t)w(\\theta_t)}{\\sum_{t = 1}^{t_{\\max}}w(\\theta_t)},$$\n",
        "where $t_{\\max}$ is the number of iterations of the chain and $w(\\theta) = \\exp\\{-A\\circ\\xi(\\theta)\\}\\propto\\frac{\\pi(\\theta)}{\\tilde{\\pi}(\\theta)}$."
      ]
    },
    {
      "cell_type": "markdown",
      "metadata": {
        "id": "Ck4pXzwTKgiH"
      },
      "source": [
        "### Computing the Free Energy by Adaptive Methods"
      ]
    },
    {
      "cell_type": "markdown",
      "metadata": {
        "id": "wYyw5CjeXXd3"
      },
      "source": [
        "In this section, we present an algorithm for estimating the free energy $A$. In particular, we use an adaptive biasing MCMC method in which a time-varying biasing potential $A_t(z)$ is considered. The biasing potential $A_t$ is sequentially updated in order to converge to the free energy $A$ in the limit. Note here that \"adaptive\" here refers to the dynamic adaptation of the targeted probability measure instead of the parameters of a Markov kernel used in the simulations. Specifically, at iteration $t$, the time-varying targeted density is:\n",
        "$$\\pi_{A_t}(\\theta) = \\frac{1}{Z_{A_t}}\\exp\\{-V(\\theta) + (A_t \\circ \\xi)(\\theta)\\}.$$"
      ]
    },
    {
      "cell_type": "markdown",
      "metadata": {
        "id": "XjA4eFIbi-3C"
      },
      "source": [
        "To begin with, we present the main thread of the adaptive biasing algorithm as follows:\n",
        "\n",
        "\n",
        "\n",
        "*   Initialization: Consider a reaction coordinate $\\xi$. Start from some initial point $\\theta_0$ and the biasing potential $A_0 = 0$, iterate on $t \\geq 1$:\n",
        "\n",
        "1.   Propose a move from $\\theta_{t - 1}$ to $\\theta_t'$ with normal random walk;\n",
        "2.   Compute the acceptance ratio\n",
        "$$\\alpha_t = \\min\\left(1, \\frac{\\pi_{A_t}(\\theta_t')\\pi(\\theta_{t - 1}\\mid \\theta_t')}{\\pi_{A_t}(\\theta_{t - 1})\\pi(\\theta_t'\\mid \\theta_{t - 1})}\\right)$$\n",
        "where $\\pi(\\theta_t'\\mid \\theta_{t - 1})$ denotes the probability of proposing $\\theta_t'$ starting from $\\theta_{t - 1}$ and vice versa. The biased probability density $\\pi_{A_t}$ is defined as:\n",
        "$$\\pi_{A_t}(\\theta) \\propto \\pi(\\theta)\\exp[A_t\\circ\\xi(\\theta)];$$\n",
        "3.    Draw $U_t \\sim\\text{unif}[0, 1]$; if $U_t \\leq \\alpha_t$, accept the move and set $\\theta_t = \\theta_t'$; if $U_t > \\alpha_t$, reject the move and set $\\theta_t = \\theta_{t - 1}$.\n",
        "4.    Update the biasing potential $A_{t + 1}$.\n",
        "\n"
      ]
    },
    {
      "cell_type": "markdown",
      "metadata": {
        "id": "MwBmXcbCnhYh"
      },
      "source": [
        "We then present a scheme for updating the biasing potential $A_t$. Essentially, we will use an ABF strategy proposed in Marsili's paper, which updates $A_t$ through its derivative $A_t'$. Before explaining the strategy, we first mention how we will discretize the reaction coordinate values, $i.e. [z_{\\min}, z_{\\max}]$, for the biasing potential. We adopt a simple strategy of using predefined bins  and approximate $A_t'$ by piecewise constant functions. Specifically, we consider $N_z$ bins of equal sizes $\\Delta z$,\n",
        "$$[z_{\\min}, z_{\\max}] = \\cup_{i = 0}^{N_z - 1}[z_i, z_{i + 1}], \\:\\:z_i = z_{\\min} + i\\Delta z, \\:\\:\\Delta z = \\frac{z_{\\max} - z_{\\min}}{N_z}.$$"
      ]
    },
    {
      "cell_type": "markdown",
      "metadata": {
        "id": "azndgxrAqTZd"
      },
      "source": [
        "The ABF (Adaptive Biasing Force) strategy is based on the following formula for the derivative of $A$, which is called the mean force:\n",
        "$$A'(z) = F(z) = \\mathbb{E}_\\pi\\left(f(\\theta) \\mid \\xi(\\theta) = z\\right),$$\n",
        "where $f$ admits an analytic expression in terms of $\\xi$ and $V$:\n",
        "$$f = \\frac{\\nabla V \\cdot \\nabla\\xi}{|\\nabla\\xi|^2} - \\text{div}\\left(\\frac{\\nabla\\xi}{|\\nabla\\xi|^2}\\right),$$\n",
        "where $\\nabla$ is the gradient operator and $\\text{div}$ is the divergence operator. Thus, we have the following approximation of the mean force:\n",
        "$$\\forall z \\in (z_i, z_{i + 1}), \\:\\: F_t(z) = \\frac{\\sum_{j = 1}^{t - 1}f(\\theta_j)\\mathbb{1}_{\\{z_i \\leq \\xi(\\theta_j) \\leq z_{i + 1}\\}}}{\\sum_{j = 1}^{t - 1}\\mathbb{1}_{\\{z_i \\leq \\xi(\\theta_j) \\leq z_{i + 1}\\}}},$$\n",
        "where $\\mathbb{1}$ is the indicator function. Then an approximation $A_t$ of the free energy $A$ can be recovered by integrating $F_t(z)$ in $z$."
      ]
    },
    {
      "cell_type": "markdown",
      "metadata": {
        "id": "YrUhuQlyKxaU"
      },
      "source": [
        "### Reaction Coordinates with Unbounded Values"
      ]
    },
    {
      "cell_type": "markdown",
      "metadata": {
        "id": "CfjibWdRVbNe"
      },
      "source": [
        "There are many cases in which the reaction coordinates take values in an unbounded interval $\\mathcal{I}$, and it is impossible to apply the above procedure on the whole interval $\\mathcal{I}$. Therefore, in practice, we instead choose an interval $[z_{\\min}, z_{\\max}]$ which is not too large while the probabiility of the event $z_{\\min} \\leq \\xi(\\theta) \\leq z_{\\max}$ is close to one; i.e.:\n",
        "$$\\frac{\\int_{z_{\\min}}^{z_{\\max}}\\exp(-A(z))\\text{d}z}{\\int_{\\mathcal{I}}\\exp(-A(z))\\text{d}z} \\approx 1,$$\n",
        "so that $\\mathcal{I}\\setminus [z_{\\min}, z_{\\max}]$ is barely visited. However, good choices of $z_{\\min}$ and $z_{\\max}$ are not always easy to determine, and the reaction coordinates whose corresponding $z_{\\min}$ and $z_{\\max}$ are easy to determine are preferred."
      ]
    },
    {
      "cell_type": "markdown",
      "metadata": {
        "id": "NLlAk5P338Ip"
      },
      "source": [
        "## Implementation of Free-energy Based Method"
      ]
    },
    {
      "cell_type": "markdown",
      "metadata": {
        "id": "fnK6K_4b_ije"
      },
      "source": [
        "In this section, we implement the free-energy based method. In particular, we consider three different choices of reaction coordinates and discuss their respective performances. The main sampling steps can be summarized as follows:\n",
        "\n",
        "\n",
        "\n",
        "1.   We choose a reaction coordinate (a function $\\xi$ of $\\theta$).\n",
        "2.   We run an adaptive MCMC sampler to estimate the free energy $A$ associated with $\\xi$.\n",
        "3.   From the estimated free energy $\\hat{A}$, we define the biased density $\\tilde{\\pi} = \\pi_{\\hat{A}}$. We run a standard MCMC sampler that targets $\\tilde{\\pi}$, such as Metropolis Hastings algorithm with normal random walk.\n",
        "4.   We do an importance sampling step to retrieve the true posterior $\\pi$ from $\\tilde{\\pi}$.\n",
        "\n"
      ]
    },
    {
      "cell_type": "markdown",
      "metadata": {
        "id": "JFkl8dcmfuY2"
      },
      "source": [
        "In the following implementation, we use the same setup as before."
      ]
    },
    {
      "cell_type": "code",
      "metadata": {
        "id": "n4TeXUHJXA5A"
      },
      "source": [
        "#in the code, we suppose theta = [mu1, ..., muk, lambda1, ..., lambdak, q1, ..., qk, beta]\n",
        "#in our example, theta = [mu1, mu2, mu3, lbda1, lbda2, lbda3, q1, q2, q3, beta]\n",
        "theta_old = [2, 2, 2, 0.5, 0.5, 0.5, 0.3, 0.3, 0.4, 1] #initial value for theta\n",
        "K = 3 #three components\n",
        "\n",
        "#if mu1 is chosen as the reaction coordinate\n",
        "def f_mu(theta):\n",
        "  ans = kappa * theta[0] - kappa * m\n",
        "  for i in range(len(y)):\n",
        "    val = 0\n",
        "    for j in range(K):\n",
        "      val += theta[2 * K + j] * (theta[K + j] ** (1 / 2)) * np.exp(-theta[K + j] * (y[i] - theta[j]) ** 2 / 2)\n",
        "    ans += (theta[K] * theta[0] - theta[K] * y[i]) * theta[2 * K] * (theta[K] ** (1 / 2)) * np.exp(-theta[K] * (y[i] - theta[0]) ** 2 / 2) / val\n",
        "  return ans\n",
        "\n",
        "#if q1 is chosen as the reaction coordinate\n",
        "def f_q(theta):\n",
        "  ans = 0\n",
        "  for i in range(len(y)):\n",
        "    val = 0\n",
        "    for j in range(K):\n",
        "      val += theta[2 * K + j] * (theta[K + j] ** (1 / 2)) * np.exp(-theta[K + j] * (y[i] - theta[j]) ** 2 / 2)\n",
        "    ans -= theta[K] ** (1 / 2) * np.exp(-theta[K] * (y[i] - theta[0]) ** 2 / 2) / val\n",
        "  return ans\n",
        "\n",
        "#if beta is chosen as the reaction coordinate\n",
        "def f_beta(theta):\n",
        "  return h + sum(theta[K : 2 * K]) - (K * alpha + g - 1) / beta\n",
        "\n",
        "def f(theta, ind):\n",
        "  if ind == 0:\n",
        "    return f_mu(theta)\n",
        "  elif ind == 2 * K:\n",
        "    return f_q(theta)\n",
        "  elif ind == 3 * K:\n",
        "    return f_beta(theta)\n",
        "\n",
        "#computes biasing potential A_t(xi)\n",
        "def compute_biasing_potential(theta, ind, z, F, sum_ind, sum_f):\n",
        "  ans = 0\n",
        "  for i in range(len(z) - 1):\n",
        "    if not (theta[ind] >= z[i] and theta[ind] <= z[i + 1]):\n",
        "      ans += F[i] * (z[i + 1] - z[i])\n",
        "    else:\n",
        "      F_new = (sum_f[i] + f(theta, ind)) / (sum_ind[i] + 1)\n",
        "      ans += F_new * (z[i + 1] - z[i])\n",
        "  return ans\n",
        "\n",
        "#not only computes the biasing potential, but also updates F, sum_ind, sum_f\n",
        "def update_biasing_potential(theta, ind, z, F, sum_ind, sum_f):\n",
        "  ans = 0\n",
        "  for i in range(len(z) - 1):\n",
        "    if theta[ind] >= z[i] and theta[ind] <= z[i + 1]:\n",
        "      sum_ind[i] += 1\n",
        "      sum_f[i] += f(theta, ind)\n",
        "      F[i] = sum_f[i] / sum_ind[i]\n",
        "    ans += F[i] * (z[i + 1] - z[i])\n",
        "  return ans\n",
        "\n",
        "#computes log acceptance probability\n",
        "def compute_acc_theta(theta_new, theta_old, ind, z, F, sum_ind, sum_f):\n",
        "  #check whether lbda, q, beta are in valid range\n",
        "  for i in range(K):\n",
        "    if theta_new[i + K] <= 0:\n",
        "      return -1e60\n",
        "  for i in range(K):\n",
        "    if theta_new[i + 2 * K] <= 0 or theta_new[i + 2 * K] >= 1:\n",
        "      return -1e60\n",
        "  if theta_new[3 * K] <= 0:\n",
        "    return -1e60\n",
        "  mu_new = theta_new[0 : K]\n",
        "  mu_old = theta_old[0 : K]\n",
        "  lbda_new = theta_new[K : 2 * K]\n",
        "  lbda_old = theta_old[K : 2 * K]\n",
        "  q_new = theta_new[2 * K : 3 * K]\n",
        "  q_old = theta_old[2 * K : 3 * K]\n",
        "  beta_new = theta_new[3 * K]\n",
        "  beta_old = theta_old[3 * K]\n",
        "  log_rho = log_lik(mu_new, lbda_new, beta_new, q_new) - log_lik(mu_old, lbda_old, beta_old, q_old)\n",
        "  for i in range(K):\n",
        "    log_rho += (mu_old[i] - m) ** 2 / (2 / kappa) - (mu_new[i] - m) ** 2 / (2 / kappa)\n",
        "  for i in range(K):\n",
        "    log_rho += lgamma_lbda(lbda_new[i], beta_new) - lgamma_lbda(lbda_old[i], beta_old)\n",
        "  log_rho += lgamma_beta(beta_new) - lgamma_beta(beta_old)\n",
        "  log_rho += compute_biasing_potential(theta_new, ind, z, F, sum_ind, sum_f)\n",
        "  log_rho -= compute_biasing_potential(theta_old, ind, z, F, sum_ind, sum_f)\n",
        "  return log_rho\n",
        "\n",
        "#computes the estimated free energy A with adaptive algorithm\n",
        "#ind denotes which parameter is chosen as xi; for example, ind = 0 means mu1 is chosen\n",
        "#as xi; ind = 9 means beta is chosen as xi\n",
        "def adaptive(theta_old, ind, z, max_ite):\n",
        "  F = np.zeros(len(z)) #mean force values\n",
        "  sum_ind = np.zeros(len(z)) #sum of indicator functions in each of the intervals\n",
        "  sum_f = np.zeros(len(z)) #sum of indicator functions times f in each of the intervals \n",
        "  eps = 1e-5\n",
        "  A = 0\n",
        "  for _ in range (max_ite):\n",
        "    A_old = A\n",
        "    for ite in range (100):\n",
        "      theta_new = []\n",
        "      #propose new values for mu\n",
        "      for i in range(K):\n",
        "        theta_new.append(np.random.normal(theta_old[i], 0.025))\n",
        "      #propose new values for lbda\n",
        "      for i in range(K):\n",
        "        theta_new.append(np.random.normal(theta_old[i + K], 0.05))\n",
        "      #propose new values for q\n",
        "      for i in range(K - 1):\n",
        "        theta_new.append(np.random.normal(theta_old[i + 2 * K], 0.0005))\n",
        "      theta_new.append(1)\n",
        "      for i in range(K - 1):\n",
        "        theta_new[3 * K - 1] -= theta_new[i + 2 * K]\n",
        "      #propose new value for beta\n",
        "      theta_new.append(np.random.normal(theta_old[3 * K], 0.005))\n",
        "      log_rho = compute_acc_theta(theta_new, theta_old, ind, z, F, sum_ind, sum_f)\n",
        "      log_rho = min(log_rho, 0)\n",
        "      u = np.random.uniform(0, 1, 1)\n",
        "      if np.log(u) < log_rho:\n",
        "        theta_old = theta_new\n",
        "      #update A\n",
        "      A = update_biasing_potential(theta_old, ind, z, F, sum_ind, sum_f)\n",
        "    #if there's no significant change in the value of A, then stop iterating\n",
        "    if abs(A - A_old) < eps:\n",
        "      break\n",
        "  return F\n"
      ],
      "execution_count": null,
      "outputs": []
    },
    {
      "cell_type": "code",
      "metadata": {
        "id": "T2YkPQGRNVrq"
      },
      "source": [
        "#compute free energy A by integrating F\n",
        "def compute_free_energy(theta, ind, F, z):\n",
        "  ans = 0\n",
        "  for i in range(len(z) - 1):\n",
        "    if not (theta[ind] >= z[i] and theta[ind] <= z[i + 1]):\n",
        "      ans += (z[i + 1] - z[i]) * F[i]\n",
        "    else:\n",
        "      ans += (theta[ind] - z[i]) * F[i]\n",
        "  return ans\n",
        "\n",
        "#compute acceptance ratio for theta\n",
        "def compute_acc_ratio_theta(theta_new, theta_old, ind, F, z):\n",
        "  for i in range(K):\n",
        "    if theta_new[i + K] <= 0:\n",
        "      return -1e60\n",
        "  for i in range(K):\n",
        "    if theta_new[i + 2 * K] <= 0 or theta_new[i + 2 * K] >= 1:\n",
        "      return -1e60\n",
        "  if theta_new[3 * K] <= 0:\n",
        "    return -1e60\n",
        "  mu_new = theta_new[0 : K]\n",
        "  mu_old = theta_old[0 : K]\n",
        "  lbda_new = theta_new[K : 2 * K]\n",
        "  lbda_old = theta_old[K : 2 * K]\n",
        "  q_new = theta_new[2 * K : 3 * K]\n",
        "  q_old = theta_old[2 * K : 3 * K]\n",
        "  beta_new = theta_new[3 * K]\n",
        "  beta_old = theta_old[3 * K]\n",
        "  log_rho = log_lik(mu_new, lbda_new, beta_new, q_new) - log_lik(mu_old, lbda_old, beta_old, q_old)\n",
        "  for i in range(K):\n",
        "    log_rho += (mu_old[i] - m) ** 2 / (2 / kappa) - (mu_new[i] - m) ** 2 / (2 / kappa)\n",
        "  for i in range(K):\n",
        "    log_rho += lgamma_lbda(lbda_new[i], beta_new) - lgamma_lbda(lbda_old[i], beta_old)\n",
        "  log_rho += lgamma_beta(beta_new) - lgamma_beta(beta_old)\n",
        "  log_rho += compute_free_energy(theta_new, ind, F, z)\n",
        "  log_rho -= compute_free_energy(theta_old, ind, F, z)\n",
        "  return log_rho\n",
        "\n",
        "#metropolis Hastings algorithm to sample the biased distribution\n",
        "def metropolisHastings_free_energy(nsample, burn_in, theta_old, indz, max_ite):\n",
        "  theta = []\n",
        "  acc = []\n",
        "  F = adaptive(theta_old, ind, z, max_ite)\n",
        "  for i in range(nsample):\n",
        "    theta_new = []\n",
        "    #propose new values for mu\n",
        "    for i in range(K):\n",
        "      theta_new.append(np.random.normal(theta_old[i], 0.2))\n",
        "    #propose new values for lbda\n",
        "    for i in range(K):\n",
        "      theta_new.append(np.random.normal(theta_old[i + K], 0.5))\n",
        "    #propose new values for q\n",
        "    for i in range(K - 1):\n",
        "      theta_new.append(np.random.normal(theta_old[i + 2 * K], 0.02))\n",
        "    theta_new.append(1)\n",
        "    for i in range(K - 1):\n",
        "      theta_new[3 * K - 1] -= theta_new[i + 2 * K]\n",
        "    #propose new value for beta\n",
        "    theta_new.append(np.random.normal(theta_old[3 * K], 0.2))\n",
        "    log_rho = compute_acc_ratio_theta(theta_new, theta_old, ind, F, z)\n",
        "    log_rho = min(log_rho, 0)\n",
        "    u = np.random.uniform(0, 1, 1)\n",
        "    if np.log(u) < log_rho:\n",
        "      theta_old = theta_new\n",
        "      if i > burn_in:\n",
        "        acc.append(1)\n",
        "    if i > burn_in:\n",
        "      theta.append(theta_old)\n",
        "  return theta"
      ],
      "execution_count": 25,
      "outputs": []
    },
    {
      "cell_type": "code",
      "metadata": {
        "id": "sq0EnYUp14qP"
      },
      "source": [
        "#importance sampling, recover the original distribution\n",
        "def importanceSampling():"
      ],
      "execution_count": null,
      "outputs": []
    },
    {
      "cell_type": "markdown",
      "metadata": {
        "id": "DeL8PdxvAIhb"
      },
      "source": [
        "#### 1. $\\xi(\\theta) = \\mu_1$"
      ]
    },
    {
      "cell_type": "markdown",
      "metadata": {
        "id": "Es1N8ps15ZuV"
      },
      "source": [
        "In this section, we implement the free energy based method with $\\xi(\\theta) = \\mu_1$. We take $z_{\\min} = 0.05$, $z_{\\max} = 4.0$ and $\\Delta z = 0.01$."
      ]
    },
    {
      "cell_type": "code",
      "metadata": {
        "id": "6OMRjqNQATMR"
      },
      "source": [
        ""
      ],
      "execution_count": null,
      "outputs": []
    },
    {
      "cell_type": "markdown",
      "metadata": {
        "id": "a_3T9Ak_Agem"
      },
      "source": [
        "#### 2. $\\xi(\\theta) = q_1$"
      ]
    },
    {
      "cell_type": "markdown",
      "metadata": {
        "id": "bTQddepB6evq"
      },
      "source": [
        "In this section, we implement the free energy based method with $\\xi(\\theta) = q_1$. We take $z_{\\min} = 0$, $z_{\\max} = 1$ and $\\Delta z = 0.005$."
      ]
    },
    {
      "cell_type": "code",
      "metadata": {
        "id": "jfZVYYapAkC_"
      },
      "source": [
        ""
      ],
      "execution_count": null,
      "outputs": []
    },
    {
      "cell_type": "markdown",
      "metadata": {
        "id": "41jMaiKXAkdi"
      },
      "source": [
        "#### 3. $\\xi(\\theta) = \\beta$"
      ]
    },
    {
      "cell_type": "markdown",
      "metadata": {
        "id": "NmLRxaQq6y-u"
      },
      "source": [
        "In this section, we implement the free energy based method with $\\xi(\\theta) = \\beta$. We take $z_{\\min} = 0$, $z_{\\max} = 1$ and $\\Delta z = 0.005$."
      ]
    },
    {
      "cell_type": "code",
      "metadata": {
        "id": "ftlGwyB7AqDZ"
      },
      "source": [
        ""
      ],
      "execution_count": null,
      "outputs": []
    },
    {
      "cell_type": "markdown",
      "metadata": {
        "id": "lW3QwVHHAvmV"
      },
      "source": [
        "## Conclusion"
      ]
    },
    {
      "cell_type": "markdown",
      "metadata": {
        "id": "cKAurz92Azk3"
      },
      "source": [
        "In this project, we implemented the standard Metropolis Hastings Algorithm as well as the free-energy based methods with different choices of reaction cooredinates for exploring univariate mixture Gaussian posteriors. Among them, free-energy based methods with reaction coordinates $\\xi(\\theta) = \\beta$ has the best performance, with active transitions between different modes. Though we have focused on the particular case of Gaussian mixture posteriors, the same idea might be applied to other mixture models as well, and it would be interesting to explore how far this method can be extended to."
      ]
    }
  ]
}